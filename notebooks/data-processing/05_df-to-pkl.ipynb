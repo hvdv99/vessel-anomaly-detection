{
 "cells": [
  {
   "cell_type": "code",
   "execution_count": 17,
   "id": "d4dde288-ea38-419b-88df-7e030176f09f",
   "metadata": {},
   "outputs": [],
   "source": [
    "import os\n",
    "import pickle as pkl\n",
    "import pandas as pd\n",
    "import numpy as np\n",
    "import random\n",
    "\n",
    "random.seed(107)"
   ]
  },
  {
   "cell_type": "code",
   "execution_count": 18,
   "id": "283d5fd4-9d17-4795-a5fe-9fe00fef32cc",
   "metadata": {},
   "outputs": [],
   "source": [
    "LAT, LON, SOG, COG, TS, MMSI, SWH, MWD, MWP, U10, V10 = np.arange(11)"
   ]
  },
  {
   "cell_type": "markdown",
   "id": "11c6aa0a-de58-4fa2-836c-1a59346ca62d",
   "metadata": {},
   "source": [
    "# Methods"
   ]
  },
  {
   "cell_type": "code",
   "execution_count": 19,
   "id": "2f6a77f2-4491-4952-8e83-1a1ef907abd1",
   "metadata": {},
   "outputs": [],
   "source": [
    "def min_max_scale_column(df, column):\n",
    "    col_min = df[column].min()\n",
    "    col_max = df[column].max()\n",
    "\n",
    "    df[column] = (df[column] - col_min) / (col_max - col_min)\n",
    "\n",
    "    return df\n",
    "\n",
    "def max_scale_column(df, column, max_val):\n",
    "    col_max = df[column].max()\n",
    "\n",
    "    df[column] = df[column] / col_max\n",
    "\n",
    "    return df\n",
    "\n",
    "def df_to_list(df):\n",
    "\n",
    "    df = df.copy()\n",
    "\n",
    "    cols_min_max = ['latitude', 'longitude', 'swh', 'mwp', 'u10', 'v10']\n",
    "    for col in cols_min_max:\n",
    "        df = min_max_scale_column(df, column=col)\n",
    "\n",
    "    cols_max = {'SOG': 30.0,\n",
    "                'COG': 360.0,\n",
    "                'mwd': 360.0}\n",
    "\n",
    "    for col, val in cols_max.items():\n",
    "        df = max_scale_column(df, column=col, max_val=val)\n",
    "\n",
    "    trjs = []\n",
    "    t_ids = df['traj_id'].unique().tolist()\n",
    "    for trj in t_ids:\n",
    "        tmp_df = df[df['traj_id'] == trj].copy()\n",
    "        tmp_df = tmp_df.sort_values(by='timestamp')\n",
    "        tmp_df = tmp_df.drop(columns=['traj_id'])\n",
    "\n",
    "        mmsi = tmp_df['MMSI'].unique().tolist()\n",
    "        assert len(mmsi) == 1\n",
    "        mmsi = mmsi[0]\n",
    "\n",
    "        trjs.append(\n",
    "            dict(mmsi=np.float64(mmsi), traj=tmp_df.values)\n",
    "        )\n",
    "\n",
    "    return trjs\n",
    "\n",
    "def save_to_pkl(lst, filename, directory=None):\n",
    "\n",
    "    if directory:\n",
    "        o_pth = os.path.join(directory, filename)\n",
    "    else:\n",
    "        o_pth = filename\n",
    "\n",
    "    with open(o_pth, 'wb') as f:\n",
    "        pkl.dump(lst, f)\n",
    "\n",
    "    print(f'Saved to {o_pth}')\n",
    "\n",
    "    return None"
   ]
  },
  {
   "cell_type": "code",
   "execution_count": 20,
   "id": "36a368b4-cb69-4baa-b291-0fce0beca717",
   "metadata": {},
   "outputs": [],
   "source": [
    "enriched_train_fp = '../../data/joined-stad-weather-train.parquet'\n",
    "enriched_valid_fp = '../../data/joined-stad-weather-valid.parquet'"
   ]
  },
  {
   "cell_type": "code",
   "execution_count": 21,
   "id": "4d0e9318-30ab-46ca-88ea-78d3f2b6f7a1",
   "metadata": {},
   "outputs": [],
   "source": [
    "df_enriched_train = pd.read_parquet(enriched_train_fp)\n",
    "df_enriched_valid = pd.read_parquet(enriched_valid_fp)"
   ]
  },
  {
   "cell_type": "code",
   "execution_count": 22,
   "id": "846db56b",
   "metadata": {},
   "outputs": [],
   "source": [
    "for df in [df_enriched_train, df_enriched_valid]:\n",
    "  df = df[['latitude', 'longitude', 'SOG', 'COG', 'timestamp', 'MMSI', 'traj_id', 'swh', 'mwd', 'mwp', 'u10', 'v10']]"
   ]
  },
  {
   "cell_type": "code",
   "execution_count": 23,
   "id": "1b96849b-b7b3-4d13-9299-1fef4cdbfd47",
   "metadata": {},
   "outputs": [
    {
     "name": "stdout",
     "output_type": "stream",
     "text": [
      "Index(['latitude', 'longitude', 'SOG', 'COG', 'timestamp', 'MMSI', 'traj_id',\n",
      "       'swh', 'mwd', 'mwp', 'u10', 'v10'],\n",
      "      dtype='object')\n",
      "Index(['latitude', 'longitude', 'SOG', 'COG', 'timestamp', 'MMSI', 'traj_id',\n",
      "       'swh', 'mwd', 'mwp', 'u10', 'v10'],\n",
      "      dtype='object')\n"
     ]
    }
   ],
   "source": [
    "for df in [df_enriched_train, df_enriched_valid]:\n",
    "  print(df.columns)"
   ]
  },
  {
   "cell_type": "code",
   "execution_count": 24,
   "id": "9fb9c52f-bd6f-4756-9fc6-9266a1226a33",
   "metadata": {},
   "outputs": [],
   "source": [
    "lst_train = df_to_list(df_enriched_valid)\n",
    "lst_valid = df_to_list(df_enriched_valid)"
   ]
  },
  {
   "cell_type": "markdown",
   "id": "1b0d1871",
   "metadata": {},
   "source": [
    "# Shuffle\n",
    "Training and validation datasets to ensure equal representation of weather conditions within datasets"
   ]
  },
  {
   "cell_type": "code",
   "execution_count": 25,
   "id": "0d5666d3-bf69-42f4-bcc0-cf45b2eab201",
   "metadata": {},
   "outputs": [],
   "source": [
    "total = lst_train + lst_valid\n",
    "random.shuffle(total)\n",
    "\n",
    "train_enriched_shuffled = total[len(lst_valid):]\n",
    "valid_enriched_shuffled = total[:len(lst_valid)]"
   ]
  },
  {
   "cell_type": "code",
   "execution_count": 26,
   "id": "8ca02a45",
   "metadata": {},
   "outputs": [
    {
     "name": "stdout",
     "output_type": "stream",
     "text": [
      "Saved to ../../data/joined-train-stad-weather.pkl\n",
      "Saved to ../../data/joined-valid-stad-weather.pkl\n"
     ]
    }
   ],
   "source": [
    "save_to_pkl(train_enriched_shuffled, directory='../../data', filename='joined-train-stad-weather.pkl')\n",
    "save_to_pkl(valid_enriched_shuffled, directory='../../data', filename='joined-valid-stad-weather.pkl')"
   ]
  }
 ],
 "metadata": {
  "kernelspec": {
   "display_name": "vessel-anomaly-detection",
   "language": "python",
   "name": "python3"
  },
  "language_info": {
   "codemirror_mode": {
    "name": "ipython",
    "version": 3
   },
   "file_extension": ".py",
   "mimetype": "text/x-python",
   "name": "python",
   "nbconvert_exporter": "python",
   "pygments_lexer": "ipython3",
   "version": "3.12.11"
  }
 },
 "nbformat": 4,
 "nbformat_minor": 5
}
