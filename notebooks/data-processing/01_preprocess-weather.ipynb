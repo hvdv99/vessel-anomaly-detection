{
 "cells": [
  {
   "cell_type": "markdown",
   "id": "2ef19f53",
   "metadata": {},
   "source": [
    "Notebook used to convert ERA5 grib dataset to zarr files"
   ]
  },
  {
   "cell_type": "code",
   "execution_count": null,
   "id": "initial_id",
   "metadata": {
    "ExecuteTime": {
     "end_time": "2025-04-17T13:55:45.337588Z",
     "start_time": "2025-04-17T13:55:40.328062Z"
    },
    "collapsed": true
   },
   "outputs": [
    {
     "ename": "",
     "evalue": "",
     "output_type": "error",
     "traceback": [
      "\u001b[1;31mThe kernel failed to start as the Python Environment 'vessel-anomaly-detection (Python -1.-1.-1)' is no longer available. Consider selecting another kernel or refreshing the list of Python Environments."
     ]
    }
   ],
   "source": [
    "import os\n",
    "import xarray as xr"
   ]
  },
  {
   "cell_type": "code",
   "execution_count": null,
   "id": "24c57f3d",
   "metadata": {},
   "outputs": [],
   "source": [
    "data_dir = '../data/weather'\n",
    "raw_filename = 'data.grib'"
   ]
  },
  {
   "cell_type": "code",
   "execution_count": null,
   "id": "94f1eba2",
   "metadata": {},
   "outputs": [],
   "source": [
    "# split for surface/sea type using grib command line tool\n",
    "! grib_copy -w typeOfLevel=meanSea ../data/weather/data.grib ../data/weather/mwd_mwp_swh.grib\n",
    "! grib_copy -w typeOfLevel=surface ../data/weather/data.grib ../data/weather/u10_v10.grib"
   ]
  },
  {
   "cell_type": "code",
   "execution_count": null,
   "id": "87f9b778c3f524c5",
   "metadata": {
    "ExecuteTime": {
     "end_time": "2025-04-17T15:28:42.340294Z",
     "start_time": "2025-04-17T15:28:20.971862Z"
    }
   },
   "outputs": [],
   "source": [
    "fp_u10_v10 = os.path.join(data_dir, 'u10_v10.grib')\n",
    "u10_v10 = xr.open_dataset(fp_u10_v10, engine='cfgrib', decode_timedelta=True)"
   ]
  },
  {
   "cell_type": "code",
   "execution_count": null,
   "id": "d6abe74d",
   "metadata": {},
   "outputs": [],
   "source": [
    "u10_v10"
   ]
  },
  {
   "cell_type": "code",
   "execution_count": null,
   "id": "772d7b7c",
   "metadata": {},
   "outputs": [],
   "source": [
    "u10_v10.sizes"
   ]
  },
  {
   "cell_type": "code",
   "execution_count": null,
   "id": "743d8416",
   "metadata": {},
   "outputs": [],
   "source": [
    "new_coords = {\n",
    "  'row' : [i for i in range(u10_v10.sizes.get('longitude'))],\n",
    "  'col': [i for i in range(u10_v10.sizes.get('latitude'))]\n",
    "}\n",
    "\n",
    "new_coords"
   ]
  },
  {
   "cell_type": "code",
   "execution_count": null,
   "id": "4701e4cf",
   "metadata": {},
   "outputs": [],
   "source": [
    "u10_v10 = u10_v10.assign_coords(new_coords)"
   ]
  },
  {
   "cell_type": "code",
   "execution_count": null,
   "id": "a2e92abe",
   "metadata": {},
   "outputs": [],
   "source": [
    "u10 = u10_v10.drop_vars(['v10'])\n",
    "v10 = u10_v10.drop_vars(['u10'])"
   ]
  },
  {
   "cell_type": "code",
   "execution_count": null,
   "id": "ac8f7658",
   "metadata": {},
   "outputs": [],
   "source": [
    "fp_u10 = os.path.join(data_dir, 'u10.zarr')\n",
    "fp_v10 = os.path.join(data_dir, 'v10.zarr')\n",
    "\n",
    "u10.to_zarr(fp_u10, mode='w')\n",
    "v10.to_zarr(fp_v10, mode='w')"
   ]
  },
  {
   "cell_type": "code",
   "execution_count": null,
   "id": "7f9366f4858e21e",
   "metadata": {
    "ExecuteTime": {
     "end_time": "2025-04-17T15:29:21.235046Z",
     "start_time": "2025-04-17T15:28:51.963715Z"
    }
   },
   "outputs": [],
   "source": [
    "fp_mwd_mwp_swh = os.path.join(data_dir, 'mwd_mwp_swh.grib')\n",
    "mwd_mwp_swh = xr.open_dataset(fp_mwd_mwp_swh, engine='cfgrib', decode_timedelta=True)"
   ]
  },
  {
   "cell_type": "code",
   "execution_count": null,
   "id": "ba464958",
   "metadata": {},
   "outputs": [],
   "source": [
    "new_coords = {\n",
    "  'row' : [i for i in range(mwd_mwp_swh.sizes.get('longitude'))],\n",
    "  'col': [i for i in range(mwd_mwp_swh.sizes.get('latitude'))]\n",
    "}\n",
    "\n",
    "new_coords"
   ]
  },
  {
   "cell_type": "code",
   "execution_count": null,
   "id": "f01b0a67",
   "metadata": {},
   "outputs": [],
   "source": [
    "mwd_mwp_swh = mwd_mwp_swh.assign_coords(new_coords)"
   ]
  },
  {
   "cell_type": "code",
   "execution_count": null,
   "id": "448e3a81",
   "metadata": {},
   "outputs": [],
   "source": [
    "mwd_mwp_swh"
   ]
  },
  {
   "cell_type": "code",
   "execution_count": null,
   "id": "9d9055b8",
   "metadata": {},
   "outputs": [],
   "source": [
    "variables = [\"mwd\", \"mwp\", \"swh\"]\n",
    "\n",
    "for var in variables:\n",
    "    ds = mwd_mwp_swh.drop_vars([v for v in variables if v != var])\n",
    "    fp = os.path.join(data_dir, f\"{var}.zarr\")\n",
    "    ds.to_zarr(fp, mode=\"w\")\n"
   ]
  }
 ],
 "metadata": {
  "kernelspec": {
   "display_name": "vessel-anomaly-detection",
   "language": "python",
   "name": "python3"
  },
  "language_info": {
   "codemirror_mode": {
    "name": "ipython",
    "version": 3
   },
   "file_extension": ".py",
   "mimetype": "text/x-python",
   "name": "python",
   "nbconvert_exporter": "python",
   "pygments_lexer": "ipython3",
   "version": "3.12.11"
  }
 },
 "nbformat": 4,
 "nbformat_minor": 5
}
