{
 "cells": [
  {
   "cell_type": "markdown",
   "id": "9418f945",
   "metadata": {},
   "source": [
    "Notebook that transforms the data from pickle format to a dataframe for easier handling when enriching AIS-data with weather data."
   ]
  },
  {
   "cell_type": "code",
   "execution_count": 29,
   "id": "initial_id",
   "metadata": {
    "ExecuteTime": {
     "end_time": "2025-05-16T16:15:30.861034Z",
     "start_time": "2025-05-16T16:15:29.876449Z"
    }
   },
   "outputs": [],
   "source": [
    "import pandas as pd\n",
    "import pickle as pkl\n",
    "import numpy as np"
   ]
  },
  {
   "cell_type": "code",
   "execution_count": 30,
   "id": "69626f76f3536bdf",
   "metadata": {
    "ExecuteTime": {
     "end_time": "2025-05-16T16:15:59.355031Z",
     "start_time": "2025-05-16T16:15:59.351582Z"
    }
   },
   "outputs": [],
   "source": [
    "LAT, LON, SOG, COG, TS, MMSI, TID = np.arange(7)"
   ]
  },
  {
   "cell_type": "markdown",
   "id": "93afb9b5-5d39-49ee-84b3-f4b11033d944",
   "metadata": {},
   "source": [
    "## STAD Publication West Coast Spatial Bounds"
   ]
  },
  {
   "cell_type": "code",
   "execution_count": 31,
   "id": "49b7940c-ef86-439b-a884-e352de2da322",
   "metadata": {},
   "outputs": [],
   "source": [
    "# Based on publication source code (see cell later)\n",
    "wc_lonmin = -126\n",
    "wc_lonmax = -122\n",
    "wc_latmin = 34.5\n",
    "wc_latmax = 38.5\n",
    "wc_sogmax = 30.0\n",
    "wc_cogmax = 360.0"
   ]
  },
  {
   "cell_type": "markdown",
   "id": "210b7002-95e5-4428-9e22-304c0407df9d",
   "metadata": {},
   "source": [
    "# Methods"
   ]
  },
  {
   "cell_type": "code",
   "execution_count": 32,
   "id": "f0383dc908ed77ae",
   "metadata": {
    "ExecuteTime": {
     "end_time": "2025-05-16T16:15:50.344567Z",
     "start_time": "2025-05-16T16:15:50.340240Z"
    }
   },
   "outputs": [],
   "source": [
    "def unscale_vect(vect, x_min, x_max):\n",
    "    return vect * (x_max - x_min) + x_min"
   ]
  },
  {
   "cell_type": "code",
   "execution_count": 33,
   "id": "6201533e",
   "metadata": {},
   "outputs": [],
   "source": [
    "def stadset_to_df(stad_data,\n",
    "                  lonmin,\n",
    "                  lonmax,\n",
    "                  latmin,\n",
    "                  latmax,\n",
    "                  sogmax,\n",
    "                  cogmax):\n",
    "\n",
    "    \"\"\"\n",
    "    Function to inversely scale the training data in (Li et al., 2024)\n",
    "    Based on their methodology in: https://github.com/lihui91/ais_process/blob/7f62ff2eb5072ceee723e48f91b0d1eac9218429/src/dataset_preprocessing.py#L325\n",
    "    \"\"\"\n",
    "\n",
    "    colnames = [\n",
    "        'latitude',\n",
    "        'longitude',\n",
    "        'SOG',\n",
    "        'COG',\n",
    "        'timestamp',\n",
    "        'MMSI'\n",
    "    ]\n",
    "\n",
    "    # Unscaling\n",
    "    dfs = list()\n",
    "    for i, trajectory_data in enumerate(stad_data):\n",
    "\n",
    "        mmsi = trajectory_data['mmsi']\n",
    "        trj = trajectory_data['traj']\n",
    "\n",
    "        trj_id = f\"{int(mmsi)}_{i}\"\n",
    "\n",
    "        trj[:, LAT] = unscale_vect(trj[:, LAT], latmin, latmax)\n",
    "        trj[:, LON] = unscale_vect(trj[:, LON], lonmin, lonmax)\n",
    "        trj[:, SOG] = trj[:, SOG] * sogmax\n",
    "        trj[:, COG] = trj[:, COG] * cogmax\n",
    "\n",
    "        # Transform to dataframe\n",
    "        df = pd.DataFrame(trj, columns=colnames)\n",
    "        df['traj_id'] = trj_id\n",
    "        dfs.append(df)\n",
    "\n",
    "    df = pd.concat(dfs, axis=0)\n",
    "\n",
    "    df['MMSI'] = df['MMSI'].astype(int)\n",
    "    df['timestamp'] = df['timestamp'].astype(int)\n",
    "\n",
    "    return df"
   ]
  },
  {
   "cell_type": "markdown",
   "id": "50cff4e24d34c384",
   "metadata": {},
   "source": [
    "# Data Loading\n",
    "Dataset was retrieved from https://github.com/lihui91/ais_process"
   ]
  },
  {
   "cell_type": "markdown",
   "id": "2364d693-ad9a-414b-b033-9504bde48920",
   "metadata": {},
   "source": [
    "## Original Train"
   ]
  },
  {
   "cell_type": "code",
   "execution_count": null,
   "id": "d2bfc0ac27d120fb",
   "metadata": {
    "ExecuteTime": {
     "end_time": "2025-05-16T16:15:34.083159Z",
     "start_time": "2025-05-16T16:15:34.016986Z"
    }
   },
   "outputs": [],
   "source": [
    "train_set = '../../data/ct_train.pkl'\n",
    "with open(train_set, 'rb') as f:\n",
    "    train = pkl.load(f)"
   ]
  },
  {
   "cell_type": "code",
   "execution_count": 35,
   "id": "cdc06e4f-ba70-4014-af34-37fa3071fb6a",
   "metadata": {},
   "outputs": [
    {
     "data": {
      "text/plain": [
       "array([4.12870000e-01, 8.62255000e-01, 4.20000000e-01, 9.17777778e-01,\n",
       "       1.67253120e+09, 4.16497000e+08])"
      ]
     },
     "execution_count": 35,
     "metadata": {},
     "output_type": "execute_result"
    }
   ],
   "source": [
    "train[0]['traj'][0, :]"
   ]
  },
  {
   "cell_type": "markdown",
   "id": "b32ba0ec-4feb-48cb-aecf-c409477c2b89",
   "metadata": {},
   "source": [
    "## Original Valid"
   ]
  },
  {
   "cell_type": "code",
   "execution_count": null,
   "id": "66e0ecb5",
   "metadata": {},
   "outputs": [],
   "source": [
    "valid_set = '../../data/ct_valid.pkl'\n",
    "with open(valid_set, 'rb') as f:\n",
    "    valid = pkl.load(f)"
   ]
  },
  {
   "cell_type": "code",
   "execution_count": 37,
   "id": "a9140103",
   "metadata": {},
   "outputs": [
    {
     "data": {
      "text/plain": [
       "array([4.72507500e-01, 7.37727500e-01, 3.53333333e-01, 9.25833333e-01,\n",
       "       1.69084800e+09, 2.59157000e+08])"
      ]
     },
     "execution_count": 37,
     "metadata": {},
     "output_type": "execute_result"
    }
   ],
   "source": [
    "valid[0]['traj'][0, :]"
   ]
  },
  {
   "cell_type": "code",
   "execution_count": 38,
   "id": "91816229-0bc3-48d8-afd9-883c067a4623",
   "metadata": {},
   "outputs": [
    {
     "data": {
      "text/html": [
       "<div>\n",
       "<style scoped>\n",
       "    .dataframe tbody tr th:only-of-type {\n",
       "        vertical-align: middle;\n",
       "    }\n",
       "\n",
       "    .dataframe tbody tr th {\n",
       "        vertical-align: top;\n",
       "    }\n",
       "\n",
       "    .dataframe thead th {\n",
       "        text-align: right;\n",
       "    }\n",
       "</style>\n",
       "<table border=\"1\" class=\"dataframe\">\n",
       "  <thead>\n",
       "    <tr style=\"text-align: right;\">\n",
       "      <th></th>\n",
       "      <th>latitude</th>\n",
       "      <th>longitude</th>\n",
       "      <th>SOG</th>\n",
       "      <th>COG</th>\n",
       "      <th>timestamp</th>\n",
       "      <th>MMSI</th>\n",
       "    </tr>\n",
       "  </thead>\n",
       "  <tbody>\n",
       "    <tr>\n",
       "      <th>count</th>\n",
       "      <td>94370.000000</td>\n",
       "      <td>94370.000000</td>\n",
       "      <td>94370.000000</td>\n",
       "      <td>94370.000000</td>\n",
       "      <td>9.437000e+04</td>\n",
       "      <td>9.437000e+04</td>\n",
       "    </tr>\n",
       "    <tr>\n",
       "      <th>mean</th>\n",
       "      <td>0.614819</td>\n",
       "      <td>0.715759</td>\n",
       "      <td>0.274238</td>\n",
       "      <td>0.546148</td>\n",
       "      <td>1.692203e+09</td>\n",
       "      <td>4.056864e+08</td>\n",
       "    </tr>\n",
       "    <tr>\n",
       "      <th>std</th>\n",
       "      <td>0.262026</td>\n",
       "      <td>0.224070</td>\n",
       "      <td>0.194626</td>\n",
       "      <td>0.280503</td>\n",
       "      <td>7.648862e+05</td>\n",
       "      <td>1.299013e+08</td>\n",
       "    </tr>\n",
       "    <tr>\n",
       "      <th>min</th>\n",
       "      <td>0.000008</td>\n",
       "      <td>0.000010</td>\n",
       "      <td>0.000000</td>\n",
       "      <td>0.000000</td>\n",
       "      <td>1.690848e+09</td>\n",
       "      <td>2.056570e+08</td>\n",
       "    </tr>\n",
       "    <tr>\n",
       "      <th>25%</th>\n",
       "      <td>0.422599</td>\n",
       "      <td>0.599907</td>\n",
       "      <td>0.045260</td>\n",
       "      <td>0.336111</td>\n",
       "      <td>1.691550e+09</td>\n",
       "      <td>3.110001e+08</td>\n",
       "    </tr>\n",
       "    <tr>\n",
       "      <th>50%</th>\n",
       "      <td>0.703124</td>\n",
       "      <td>0.768908</td>\n",
       "      <td>0.321415</td>\n",
       "      <td>0.495300</td>\n",
       "      <td>1.692191e+09</td>\n",
       "      <td>3.691420e+08</td>\n",
       "    </tr>\n",
       "    <tr>\n",
       "      <th>75%</th>\n",
       "      <td>0.824240</td>\n",
       "      <td>0.908844</td>\n",
       "      <td>0.423333</td>\n",
       "      <td>0.823217</td>\n",
       "      <td>1.692837e+09</td>\n",
       "      <td>5.380075e+08</td>\n",
       "    </tr>\n",
       "    <tr>\n",
       "      <th>max</th>\n",
       "      <td>0.999997</td>\n",
       "      <td>0.999997</td>\n",
       "      <td>0.790108</td>\n",
       "      <td>1.000000</td>\n",
       "      <td>1.693526e+09</td>\n",
       "      <td>6.360930e+08</td>\n",
       "    </tr>\n",
       "  </tbody>\n",
       "</table>\n",
       "</div>"
      ],
      "text/plain": [
       "           latitude     longitude           SOG           COG     timestamp  \\\n",
       "count  94370.000000  94370.000000  94370.000000  94370.000000  9.437000e+04   \n",
       "mean       0.614819      0.715759      0.274238      0.546148  1.692203e+09   \n",
       "std        0.262026      0.224070      0.194626      0.280503  7.648862e+05   \n",
       "min        0.000008      0.000010      0.000000      0.000000  1.690848e+09   \n",
       "25%        0.422599      0.599907      0.045260      0.336111  1.691550e+09   \n",
       "50%        0.703124      0.768908      0.321415      0.495300  1.692191e+09   \n",
       "75%        0.824240      0.908844      0.423333      0.823217  1.692837e+09   \n",
       "max        0.999997      0.999997      0.790108      1.000000  1.693526e+09   \n",
       "\n",
       "               MMSI  \n",
       "count  9.437000e+04  \n",
       "mean   4.056864e+08  \n",
       "std    1.299013e+08  \n",
       "min    2.056570e+08  \n",
       "25%    3.110001e+08  \n",
       "50%    3.691420e+08  \n",
       "75%    5.380075e+08  \n",
       "max    6.360930e+08  "
      ]
     },
     "execution_count": 38,
     "metadata": {},
     "output_type": "execute_result"
    }
   ],
   "source": [
    "df_valid = pd.DataFrame(np.vstack([trj['traj'] for trj in valid]), columns=['latitude', 'longitude', 'SOG', 'COG', 'timestamp', 'MMSI'])\n",
    "df_valid.describe()"
   ]
  },
  {
   "cell_type": "markdown",
   "id": "2b12b855-ada6-4260-bf9c-42d03cd13ab3",
   "metadata": {},
   "source": [
    "# Unscale and transform to DataFrame"
   ]
  },
  {
   "cell_type": "code",
   "execution_count": 39,
   "id": "11f18f01-cf73-4499-afb2-e0c63d53d489",
   "metadata": {},
   "outputs": [
    {
     "name": "stdout",
     "output_type": "stream",
     "text": [
      "(538223, 7)\n"
     ]
    },
    {
     "data": {
      "text/html": [
       "<div>\n",
       "<style scoped>\n",
       "    .dataframe tbody tr th:only-of-type {\n",
       "        vertical-align: middle;\n",
       "    }\n",
       "\n",
       "    .dataframe tbody tr th {\n",
       "        vertical-align: top;\n",
       "    }\n",
       "\n",
       "    .dataframe thead th {\n",
       "        text-align: right;\n",
       "    }\n",
       "</style>\n",
       "<table border=\"1\" class=\"dataframe\">\n",
       "  <thead>\n",
       "    <tr style=\"text-align: right;\">\n",
       "      <th></th>\n",
       "      <th>latitude</th>\n",
       "      <th>longitude</th>\n",
       "      <th>SOG</th>\n",
       "      <th>COG</th>\n",
       "      <th>timestamp</th>\n",
       "      <th>MMSI</th>\n",
       "      <th>traj_id</th>\n",
       "    </tr>\n",
       "  </thead>\n",
       "  <tbody>\n",
       "    <tr>\n",
       "      <th>0</th>\n",
       "      <td>36.151480</td>\n",
       "      <td>-122.550980</td>\n",
       "      <td>12.600000</td>\n",
       "      <td>330.400000</td>\n",
       "      <td>1672531202</td>\n",
       "      <td>416497000</td>\n",
       "      <td>416497000_0</td>\n",
       "    </tr>\n",
       "    <tr>\n",
       "      <th>1</th>\n",
       "      <td>36.180222</td>\n",
       "      <td>-122.573689</td>\n",
       "      <td>12.200000</td>\n",
       "      <td>327.474286</td>\n",
       "      <td>1672531802</td>\n",
       "      <td>416497000</td>\n",
       "      <td>416497000_0</td>\n",
       "    </tr>\n",
       "    <tr>\n",
       "      <th>2</th>\n",
       "      <td>36.208445</td>\n",
       "      <td>-122.596052</td>\n",
       "      <td>12.265217</td>\n",
       "      <td>328.300000</td>\n",
       "      <td>1672532402</td>\n",
       "      <td>416497000</td>\n",
       "      <td>416497000_0</td>\n",
       "    </tr>\n",
       "    <tr>\n",
       "      <th>3</th>\n",
       "      <td>36.236860</td>\n",
       "      <td>-122.619197</td>\n",
       "      <td>12.405714</td>\n",
       "      <td>326.837143</td>\n",
       "      <td>1672533002</td>\n",
       "      <td>416497000</td>\n",
       "      <td>416497000_0</td>\n",
       "    </tr>\n",
       "    <tr>\n",
       "      <th>4</th>\n",
       "      <td>36.264735</td>\n",
       "      <td>-122.644051</td>\n",
       "      <td>12.322857</td>\n",
       "      <td>322.640000</td>\n",
       "      <td>1672533602</td>\n",
       "      <td>416497000</td>\n",
       "      <td>416497000_0</td>\n",
       "    </tr>\n",
       "  </tbody>\n",
       "</table>\n",
       "</div>"
      ],
      "text/plain": [
       "    latitude   longitude        SOG         COG   timestamp       MMSI  \\\n",
       "0  36.151480 -122.550980  12.600000  330.400000  1672531202  416497000   \n",
       "1  36.180222 -122.573689  12.200000  327.474286  1672531802  416497000   \n",
       "2  36.208445 -122.596052  12.265217  328.300000  1672532402  416497000   \n",
       "3  36.236860 -122.619197  12.405714  326.837143  1672533002  416497000   \n",
       "4  36.264735 -122.644051  12.322857  322.640000  1672533602  416497000   \n",
       "\n",
       "       traj_id  \n",
       "0  416497000_0  \n",
       "1  416497000_0  \n",
       "2  416497000_0  \n",
       "3  416497000_0  \n",
       "4  416497000_0  "
      ]
     },
     "execution_count": 39,
     "metadata": {},
     "output_type": "execute_result"
    }
   ],
   "source": [
    "stad_train_df = stadset_to_df(train,\n",
    "                              wc_lonmin,\n",
    "                              wc_lonmax,\n",
    "                              wc_latmin,\n",
    "                              wc_latmax,\n",
    "                              wc_sogmax,\n",
    "                              wc_cogmax)\n",
    "print(stad_train_df.shape)\n",
    "stad_train_df.head()"
   ]
  },
  {
   "cell_type": "code",
   "execution_count": 40,
   "id": "6e06f441-9f80-4eca-a024-93173b3e9bbc",
   "metadata": {},
   "outputs": [
    {
     "data": {
      "text/html": [
       "<div>\n",
       "<style scoped>\n",
       "    .dataframe tbody tr th:only-of-type {\n",
       "        vertical-align: middle;\n",
       "    }\n",
       "\n",
       "    .dataframe tbody tr th {\n",
       "        vertical-align: top;\n",
       "    }\n",
       "\n",
       "    .dataframe thead th {\n",
       "        text-align: right;\n",
       "    }\n",
       "</style>\n",
       "<table border=\"1\" class=\"dataframe\">\n",
       "  <thead>\n",
       "    <tr style=\"text-align: right;\">\n",
       "      <th></th>\n",
       "      <th>latitude</th>\n",
       "      <th>longitude</th>\n",
       "      <th>SOG</th>\n",
       "      <th>COG</th>\n",
       "      <th>timestamp</th>\n",
       "      <th>MMSI</th>\n",
       "    </tr>\n",
       "  </thead>\n",
       "  <tbody>\n",
       "    <tr>\n",
       "      <th>count</th>\n",
       "      <td>538223.000000</td>\n",
       "      <td>538223.000000</td>\n",
       "      <td>538223.000000</td>\n",
       "      <td>538223.000000</td>\n",
       "      <td>5.382230e+05</td>\n",
       "      <td>5.382230e+05</td>\n",
       "    </tr>\n",
       "    <tr>\n",
       "      <th>mean</th>\n",
       "      <td>37.025807</td>\n",
       "      <td>-123.082414</td>\n",
       "      <td>8.110445</td>\n",
       "      <td>199.766808</td>\n",
       "      <td>1.682567e+09</td>\n",
       "      <td>4.051916e+08</td>\n",
       "    </tr>\n",
       "    <tr>\n",
       "      <th>std</th>\n",
       "      <td>0.977095</td>\n",
       "      <td>0.861746</td>\n",
       "      <td>5.822389</td>\n",
       "      <td>103.043849</td>\n",
       "      <td>5.337238e+06</td>\n",
       "      <td>1.252096e+08</td>\n",
       "    </tr>\n",
       "    <tr>\n",
       "      <th>min</th>\n",
       "      <td>34.500010</td>\n",
       "      <td>-125.999980</td>\n",
       "      <td>0.000000</td>\n",
       "      <td>0.000000</td>\n",
       "      <td>1.672531e+09</td>\n",
       "      <td>2.055590e+08</td>\n",
       "    </tr>\n",
       "    <tr>\n",
       "      <th>25%</th>\n",
       "      <td>36.374493</td>\n",
       "      <td>-123.548966</td>\n",
       "      <td>1.515595</td>\n",
       "      <td>121.536149</td>\n",
       "      <td>1.677991e+09</td>\n",
       "      <td>3.110009e+08</td>\n",
       "    </tr>\n",
       "    <tr>\n",
       "      <th>50%</th>\n",
       "      <td>37.335614</td>\n",
       "      <td>-122.835558</td>\n",
       "      <td>9.679710</td>\n",
       "      <td>179.000000</td>\n",
       "      <td>1.683208e+09</td>\n",
       "      <td>3.690400e+08</td>\n",
       "    </tr>\n",
       "    <tr>\n",
       "      <th>75%</th>\n",
       "      <td>37.794796</td>\n",
       "      <td>-122.360010</td>\n",
       "      <td>12.577049</td>\n",
       "      <td>304.700000</td>\n",
       "      <td>1.687362e+09</td>\n",
       "      <td>5.380061e+08</td>\n",
       "    </tr>\n",
       "    <tr>\n",
       "      <th>max</th>\n",
       "      <td>38.499980</td>\n",
       "      <td>-122.000010</td>\n",
       "      <td>24.100000</td>\n",
       "      <td>360.000000</td>\n",
       "      <td>1.690848e+09</td>\n",
       "      <td>6.421220e+08</td>\n",
       "    </tr>\n",
       "  </tbody>\n",
       "</table>\n",
       "</div>"
      ],
      "text/plain": [
       "            latitude      longitude            SOG            COG  \\\n",
       "count  538223.000000  538223.000000  538223.000000  538223.000000   \n",
       "mean       37.025807    -123.082414       8.110445     199.766808   \n",
       "std         0.977095       0.861746       5.822389     103.043849   \n",
       "min        34.500010    -125.999980       0.000000       0.000000   \n",
       "25%        36.374493    -123.548966       1.515595     121.536149   \n",
       "50%        37.335614    -122.835558       9.679710     179.000000   \n",
       "75%        37.794796    -122.360010      12.577049     304.700000   \n",
       "max        38.499980    -122.000010      24.100000     360.000000   \n",
       "\n",
       "          timestamp          MMSI  \n",
       "count  5.382230e+05  5.382230e+05  \n",
       "mean   1.682567e+09  4.051916e+08  \n",
       "std    5.337238e+06  1.252096e+08  \n",
       "min    1.672531e+09  2.055590e+08  \n",
       "25%    1.677991e+09  3.110009e+08  \n",
       "50%    1.683208e+09  3.690400e+08  \n",
       "75%    1.687362e+09  5.380061e+08  \n",
       "max    1.690848e+09  6.421220e+08  "
      ]
     },
     "execution_count": 40,
     "metadata": {},
     "output_type": "execute_result"
    }
   ],
   "source": [
    "stad_train_df.describe()"
   ]
  },
  {
   "cell_type": "code",
   "execution_count": 41,
   "id": "757807f8",
   "metadata": {},
   "outputs": [
    {
     "name": "stdout",
     "output_type": "stream",
     "text": [
      "(94370, 7)\n"
     ]
    },
    {
     "data": {
      "text/html": [
       "<div>\n",
       "<style scoped>\n",
       "    .dataframe tbody tr th:only-of-type {\n",
       "        vertical-align: middle;\n",
       "    }\n",
       "\n",
       "    .dataframe tbody tr th {\n",
       "        vertical-align: top;\n",
       "    }\n",
       "\n",
       "    .dataframe thead th {\n",
       "        text-align: right;\n",
       "    }\n",
       "</style>\n",
       "<table border=\"1\" class=\"dataframe\">\n",
       "  <thead>\n",
       "    <tr style=\"text-align: right;\">\n",
       "      <th></th>\n",
       "      <th>latitude</th>\n",
       "      <th>longitude</th>\n",
       "      <th>SOG</th>\n",
       "      <th>COG</th>\n",
       "      <th>timestamp</th>\n",
       "      <th>MMSI</th>\n",
       "      <th>traj_id</th>\n",
       "    </tr>\n",
       "  </thead>\n",
       "  <tbody>\n",
       "    <tr>\n",
       "      <th>0</th>\n",
       "      <td>36.390030</td>\n",
       "      <td>-123.049090</td>\n",
       "      <td>10.600000</td>\n",
       "      <td>333.300000</td>\n",
       "      <td>1690848001</td>\n",
       "      <td>259157000</td>\n",
       "      <td>259157000_0</td>\n",
       "    </tr>\n",
       "    <tr>\n",
       "      <th>1</th>\n",
       "      <td>36.416742</td>\n",
       "      <td>-123.065319</td>\n",
       "      <td>10.756338</td>\n",
       "      <td>331.398592</td>\n",
       "      <td>1690848601</td>\n",
       "      <td>259157000</td>\n",
       "      <td>259157000_0</td>\n",
       "    </tr>\n",
       "    <tr>\n",
       "      <th>2</th>\n",
       "      <td>36.443054</td>\n",
       "      <td>-123.083440</td>\n",
       "      <td>10.528571</td>\n",
       "      <td>330.657143</td>\n",
       "      <td>1690849201</td>\n",
       "      <td>259157000</td>\n",
       "      <td>259157000_0</td>\n",
       "    </tr>\n",
       "    <tr>\n",
       "      <th>3</th>\n",
       "      <td>36.468740</td>\n",
       "      <td>-123.101660</td>\n",
       "      <td>10.400000</td>\n",
       "      <td>330.385915</td>\n",
       "      <td>1690849801</td>\n",
       "      <td>259157000</td>\n",
       "      <td>259157000_0</td>\n",
       "    </tr>\n",
       "    <tr>\n",
       "      <th>4</th>\n",
       "      <td>36.494224</td>\n",
       "      <td>-123.119153</td>\n",
       "      <td>10.357143</td>\n",
       "      <td>331.585714</td>\n",
       "      <td>1690850401</td>\n",
       "      <td>259157000</td>\n",
       "      <td>259157000_0</td>\n",
       "    </tr>\n",
       "  </tbody>\n",
       "</table>\n",
       "</div>"
      ],
      "text/plain": [
       "    latitude   longitude        SOG         COG   timestamp       MMSI  \\\n",
       "0  36.390030 -123.049090  10.600000  333.300000  1690848001  259157000   \n",
       "1  36.416742 -123.065319  10.756338  331.398592  1690848601  259157000   \n",
       "2  36.443054 -123.083440  10.528571  330.657143  1690849201  259157000   \n",
       "3  36.468740 -123.101660  10.400000  330.385915  1690849801  259157000   \n",
       "4  36.494224 -123.119153  10.357143  331.585714  1690850401  259157000   \n",
       "\n",
       "       traj_id  \n",
       "0  259157000_0  \n",
       "1  259157000_0  \n",
       "2  259157000_0  \n",
       "3  259157000_0  \n",
       "4  259157000_0  "
      ]
     },
     "execution_count": 41,
     "metadata": {},
     "output_type": "execute_result"
    }
   ],
   "source": [
    "stad_valid_df = stadset_to_df(valid,\n",
    "                              wc_lonmin,\n",
    "                              wc_lonmax,\n",
    "                              wc_latmin,\n",
    "                              wc_latmax,\n",
    "                              wc_sogmax,\n",
    "                              wc_cogmax)\n",
    "print(stad_valid_df.shape)\n",
    "stad_valid_df.head()"
   ]
  },
  {
   "cell_type": "markdown",
   "id": "a0db9fd4-afbc-4dbb-a533-6e235b4e9398",
   "metadata": {},
   "source": [
    "# Save as parquet files"
   ]
  },
  {
   "cell_type": "code",
   "execution_count": null,
   "id": "f8fd9378-1625-4393-ad91-6a31314c2285",
   "metadata": {},
   "outputs": [],
   "source": [
    "stad_train_df.to_parquet('../../data/df_stad_train_west.parquet')\n",
    "stad_valid_df.to_parquet('../../data/df_stad_valid_west.parquet')"
   ]
  }
 ],
 "metadata": {
  "kernelspec": {
   "display_name": ".venv",
   "language": "python",
   "name": "python3"
  },
  "language_info": {
   "codemirror_mode": {
    "name": "ipython",
    "version": 3
   },
   "file_extension": ".py",
   "mimetype": "text/x-python",
   "name": "python",
   "nbconvert_exporter": "python",
   "pygments_lexer": "ipython3",
   "version": "3.11.5"
  }
 },
 "nbformat": 4,
 "nbformat_minor": 5
}
